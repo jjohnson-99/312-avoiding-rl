{
 "cells": [
  {
   "cell_type": "code",
   "execution_count": 1,
   "metadata": {},
   "outputs": [],
   "source": [
    "import numpy as np\n",
    "import torch\n",
    "import torch.nn as nn\n",
    "import torch.nn.functional as F\n",
    "import torch.optim as optim\n",
    "import seaborn as sns\n",
    "import time\n",
    "import os\n",
    "from permanents import glynn"
   ]
  },
  {
   "cell_type": "code",
   "execution_count": null,
   "metadata": {},
   "outputs": [],
   "source": [
    "\n",
    "# device = torch.device(\"mps\"  torch.cuda.is_available() else \"cpu\")\n",
    "device = torch.device(\"cpu\")"
   ]
  },
  {
   "cell_type": "code",
   "execution_count": null,
   "metadata": {},
   "outputs": [],
   "source": [
    "# helper function to add 3 of the 5 free points present in all 312-avoiding matrices\n",
    "def add_free_points(input_state, n, step):\n",
    "    action_taken = torch.zeros([len(input_state)])\n",
    "    cur_state = torch.clone(input_state)\n",
    "\n",
    "    if step == 1:\n",
    "        action_index = 0\n",
    "    elif step == 2:\n",
    "        action_index = n**2-n\n",
    "    else:\n",
    "        action_index = n**2-1\n",
    "\n",
    "    cur_state[action_index] = 1\n",
    "    action_taken[action_index] = 1\n",
    "\n",
    "    return cur_state, action_taken    "
   ]
  },
  {
   "cell_type": "code",
   "execution_count": null,
   "metadata": {},
   "outputs": [],
   "source": [
    "# helper function to add corners based on probability on the output of the corner_agent neural network\n",
    "def add_corner(input_state, action_vec, n, row_boundary, col_boundary):\n",
    "    corner_added = False\n",
    "    action_taken = torch.zeros([len(action_vec)])\n",
    "    cur_state = torch.clone(input_state)\n",
    "\n",
    "    terminal = False\n",
    "\n",
    "    while not corner_added:\n",
    "        action_index = torch.multinomial(action_vec, 1).item()\n",
    "        action_row = action_index//n\n",
    "        action_col = action_index%n\n",
    "\n",
    "        if (action_row == n-2 and action_col != n-1) or (action_col == 1 and action_row != 0):\n",
    "            action_vec[action_index] = 0\n",
    "            action_vec = action_vec / torch.sum(action_vec)\n",
    "        elif row_boundary <= action_row < n-1 and col_boundary <= action_col:\n",
    "            cur_state[action_index] = 1\n",
    "            action_taken[action_index] = 1\n",
    "            corner_added = True\n",
    "        else:\n",
    "            action_vec[action_index] = 0\n",
    "            action_vec = action_vec / torch.sum(action_vec)\n",
    "\n",
    "    if action_col == n-1:\n",
    "        terminal = True\n",
    "\n",
    "    return cur_state, action_taken, terminal, action_row, action_col"
   ]
  },
  {
   "cell_type": "code",
   "execution_count": null,
   "metadata": {},
   "outputs": [],
   "source": [
    "# defines a helper function to add point, action_vec is the output, output = agent(cur_state), agent = net\n",
    "def add_point(input_state, action_vec, forbidden_state, corners, n):\n",
    "    \n",
    "    ## add time\n",
    "    point_added = False\n",
    "    action_taken = torch.zeros([len(action_vec)])\n",
    "    cur_state = torch.clone(input_state)\n",
    "    cur_forbidden = torch.clone(forbidden_state)\n",
    "\n",
    "    while not point_added:\n",
    "        action_index = torch.multinomial(action_vec, 1).item()\n",
    "\n",
    "        if cur_state[action_index] == 0 and cur_forbidden[action_index] != 1:\n",
    "            # action\n",
    "            cur_state[action_index] = 1\n",
    "            action_taken[action_index] = 1\n",
    "            point_added = True\n",
    "\n",
    "            point_row = action_index//n\n",
    "            point_col = action_index%n\n",
    "            # fill forbidden\n",
    "            for corner in corners:\n",
    "                corner_row = corner//n\n",
    "                corner_col = corner%n\n",
    "                # fill left block\n",
    "                if corner_row < point_row and point_col < corner_col:\n",
    "                    for forbidden_row in range(corner_row+1, point_row):\n",
    "                        for forbidden_col in range(point_col):\n",
    "                            forbidden_index = forbidden_row*n + forbidden_col\n",
    "                            if cur_state[forbidden_index] == 0:\n",
    "                                cur_forbidden[forbidden_index] = 1\n",
    "                    # fill right block\n",
    "                    for forbidden_col in range(point_col+1, corner_col):\n",
    "                        for forbidden_row in range(point_row+1, n):\n",
    "                            forbidden_index = forbidden_row*n + forbidden_col\n",
    "                            if cur_state[forbidden_index] == 0:\n",
    "                                cur_forbidden[forbidden_index] = 1\n",
    "        else:\n",
    "            action_vec[action_index] = 0\n",
    "            action_vec = action_vec / torch.sum(action_vec)\n",
    "\n",
    "    return cur_state, action_taken, cur_forbidden"
   ]
  }
 ],
 "metadata": {
  "kernelspec": {
   "display_name": "llm_env",
   "language": "python",
   "name": "python3"
  },
  "language_info": {
   "codemirror_mode": {
    "name": "ipython",
    "version": 3
   },
   "file_extension": ".py",
   "mimetype": "text/x-python",
   "name": "python",
   "nbconvert_exporter": "python",
   "pygments_lexer": "ipython3",
   "version": "3.10.14"
  }
 },
 "nbformat": 4,
 "nbformat_minor": 2
}
