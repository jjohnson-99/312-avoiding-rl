{
 "cells": [
  {
   "cell_type": "code",
   "execution_count": 19,
   "metadata": {},
   "outputs": [],
   "source": [
    "using Random\n",
    "using LinearAlgebra\n",
    "using Statistics\n",
    "using StatsBase\n",
    "using Plots\n",
    "using Base.Threads\n",
    "using Flux\n",
    "using Base.Iterators: product\n",
    "using Flux: Optimise\n",
    "using Flux: ADAM, params, update!\n",
    "using Serialization"
   ]
  },
  {
   "cell_type": "code",
   "execution_count": 7,
   "metadata": {},
   "outputs": [
    {
     "data": {
      "text/plain": [
       "90"
      ]
     },
     "execution_count": 7,
     "metadata": {},
     "output_type": "execute_result"
    }
   ],
   "source": [
    "include(\"permanents.jl\")\n",
    "\n",
    "# Variables are for reward_function.jl\n",
    "Lambda = 0.35 # Weight for regularizing the reward function to generate more ones (too high a labda will result in higher odds of generating isosceles triangles)\n",
    "\n",
    "# Variables are for bitwise_model.jl\n",
    "n_actions = 2  # Number of actions that the agent can take. In this case, it is either 0 for excluding a point and 1 for including it\n",
    "n_sessions = 2000  # Number of new sessions per iteration\n",
    "learning_rate = 0.001  # Learning rate, increase this to converge faster\n",
    "percentile = 90  # Top 100-x percentile the agent will learn from\n",
    "super_percentile = 90  # Top 100-x percentile of that survives to the next generation"
   ]
  },
  {
   "cell_type": "code",
   "execution_count": 60,
   "metadata": {},
   "outputs": [
    {
     "data": {
      "text/plain": [
       "90"
      ]
     },
     "execution_count": 60,
     "metadata": {},
     "output_type": "execute_result"
    }
   ],
   "source": [
    "# Variables are for bitwise_model.jl\n",
    "n_actions = 2  # Number of actions that the agent can take. In this case, it is either 0 for excluding a point and 1 for including it\n",
    "n_sessions = 2000  # Number of new sessions per iteration\n",
    "learning_rate = 0.001  # Learning rate, increase this to converge faster\n",
    "percentile = 90  # Top 100-x percentile the agent will learn from\n",
    "super_percentile = 90  # Top 100-x percentile of that survives to the next generation"
   ]
  },
  {
   "cell_type": "code",
   "execution_count": 38,
   "metadata": {},
   "outputs": [],
   "source": [
    "states = zeros(Float32, n_sessions, observation_space, len_game)\n",
    "actions = zeros(Int, n_sessions, len_game)\n",
    "state_next = zeros(Float32, n_sessions, observation_space)\n",
    "states[:, len_word, 1]\n",
    "step_ = 0;"
   ]
  },
  {
   "cell_type": "markdown",
   "metadata": {},
   "source": [
    "# Helper functions"
   ]
  },
  {
   "cell_type": "code",
   "execution_count": null,
   "metadata": {},
   "outputs": [],
   "source": [
    "convert(Array{Float64}, a)"
   ]
  },
  {
   "cell_type": "code",
   "execution_count": 372,
   "metadata": {},
   "outputs": [
    {
     "data": {
      "text/plain": [
       "4×4 adjoint(::Matrix{Float64}) with eltype Float64:\n",
       " 1.0  1.0  0.0  0.0\n",
       " 1.0  1.0  1.0  1.0\n",
       " 0.0  1.0  1.0  1.0\n",
       " 1.0  1.0  0.0  1.0"
      ]
     },
     "execution_count": 372,
     "metadata": {},
     "output_type": "execute_result"
    }
   ],
   "source": [
    "reshape(state_example,(n,n))'"
   ]
  },
  {
   "cell_type": "code",
   "execution_count": 448,
   "metadata": {},
   "outputs": [
    {
     "data": {
      "text/plain": [
       "11"
      ]
     },
     "execution_count": 448,
     "metadata": {},
     "output_type": "execute_result"
    }
   ],
   "source": [
    "file_name = joinpath(\"Data\",\"test_file.txt\")\n",
    "open(file_name, \"a\") do f\n",
    "    write(f, re, \"\\n\")\n",
    "end"
   ]
  },
  {
   "cell_type": "code",
   "execution_count": 480,
   "metadata": {},
   "outputs": [
    {
     "data": {
      "text/plain": [
       "57"
      ]
     },
     "execution_count": 480,
     "metadata": {},
     "output_type": "execute_result"
    }
   ],
   "source": [
    "if !isdir(\"Data\")\n",
    "    mkdir(\"Data\")\n",
    "end\n",
    "file_name = joinpath(\"Data\",\"test_file.txt\")\n",
    "open(joinpath(\"Data\",\"test_file.txt\"), \"a\") do f\n",
    "    write(f, example_string, '\\n')\n",
    "end"
   ]
  },
  {
   "cell_type": "code",
   "execution_count": 456,
   "metadata": {},
   "outputs": [
    {
     "data": {
      "text/plain": [
       "\"data/test.txt\""
      ]
     },
     "execution_count": 456,
     "metadata": {},
     "output_type": "execute_result"
    }
   ],
   "source": [
    "joinpath(\"data\",\"test\"*\".txt\")"
   ]
  },
  {
   "cell_type": "code",
   "execution_count": 460,
   "metadata": {},
   "outputs": [
    {
     "data": {
      "text/plain": [
       "4×4 Matrix{Int64}:\n",
       " 1  1  0  1\n",
       " 1  1  1  1\n",
       " 0  1  1  0\n",
       " 0  1  1  1"
      ]
     },
     "execution_count": 460,
     "metadata": {},
     "output_type": "execute_result"
    }
   ],
   "source": [
    "pre = reshape(convert(Vector{Int}, state_example),(n,n))"
   ]
  },
  {
   "cell_type": "code",
   "execution_count": 483,
   "metadata": {},
   "outputs": [
    {
     "data": {
      "text/plain": [
       "board_to_string (generic function with 2 methods)"
      ]
     },
     "execution_count": 483,
     "metadata": {},
     "output_type": "execute_result"
    }
   ],
   "source": [
    "function board_to_string(board, n)\n",
    "    # board is currently a Vector\n",
    "    board = reshape(convert(Vector{Int}, board), (n,n))\n",
    "    \n",
    "    output = \"[\"\n",
    "    for i in 1:n-1\n",
    "        output = output * string(board[:,i]) * '\\n' * ' '\n",
    "    end\n",
    "    output = output * string(board[:,n]) * \"]\"\n",
    "\n",
    "    return output\n",
    "end"
   ]
  },
  {
   "cell_type": "code",
   "execution_count": 474,
   "metadata": {},
   "outputs": [
    {
     "data": {
      "text/plain": [
       "\"[[1, 1, 0, 0]\\n [1, 1, 1, 1]\\n [0, 1, 1, 1]\\n [1, 1, 0, 1]]\""
      ]
     },
     "execution_count": 474,
     "metadata": {},
     "output_type": "execute_result"
    }
   ],
   "source": [
    "example_string = board_to_string(state_example, n)"
   ]
  },
  {
   "cell_type": "code",
   "execution_count": 424,
   "metadata": {},
   "outputs": [
    {
     "data": {
      "text/plain": [
       "\"[[1, 1, 0, 0]\\n [1, 1, 1, 1]\\n [0, 1, 1, 1]\\n [1, 1, 0, 1]]\""
      ]
     },
     "execution_count": 424,
     "metadata": {},
     "output_type": "execute_result"
    }
   ],
   "source": [
    "test = \"[\"\n",
    "for row in 1:n-1 \n",
    "    test = test * string(pre[:,row]) * '\\n' * ' '\n",
    "end\n",
    "test = test * string(pre[:,n]) * \"]\""
   ]
  },
  {
   "cell_type": "code",
   "execution_count": 451,
   "metadata": {},
   "outputs": [
    {
     "data": {
      "text/plain": [
       "4×4 Matrix{Float64}:\n",
       " 1.0  1.0  0.0  1.0\n",
       " 1.0  1.0  1.0  1.0\n",
       " 0.0  1.0  1.0  0.0\n",
       " 0.0  1.0  1.0  1.0"
      ]
     },
     "execution_count": 451,
     "metadata": {},
     "output_type": "execute_result"
    }
   ],
   "source": [
    "reshape(state_example,(n,n))"
   ]
  },
  {
   "cell_type": "code",
   "execution_count": 401,
   "metadata": {},
   "outputs": [
    {
     "data": {
      "text/plain": [
       "\"[1, 1, 0, 0]\\n[1, 1, 1, 1]\""
      ]
     },
     "execution_count": 401,
     "metadata": {},
     "output_type": "execute_result"
    }
   ],
   "source": [
    "test = string(pre[:,1]) * '\\n' * string(pre[:,2])"
   ]
  },
  {
   "cell_type": "code",
   "execution_count": 458,
   "metadata": {},
   "outputs": [
    {
     "data": {
      "text/plain": [
       "16-element Vector{Float64}:\n",
       " 1.0\n",
       " 1.0\n",
       " 0.0\n",
       " 0.0\n",
       " 1.0\n",
       " 1.0\n",
       " 1.0\n",
       " 1.0\n",
       " 0.0\n",
       " 1.0\n",
       " 1.0\n",
       " 1.0\n",
       " 1.0\n",
       " 1.0\n",
       " 0.0\n",
       " 1.0"
      ]
     },
     "execution_count": 458,
     "metadata": {},
     "output_type": "execute_result"
    }
   ],
   "source": [
    "state_example"
   ]
  },
  {
   "cell_type": "code",
   "execution_count": 240,
   "metadata": {},
   "outputs": [
    {
     "data": {
      "text/plain": [
       "new_point_allowed (generic function with 1 method)"
      ]
     },
     "execution_count": 240,
     "metadata": {},
     "output_type": "execute_result"
    }
   ],
   "source": [
    "function new_point_allowed(one_indices, new_point_index, n)\n",
    "    row = ceil(Int, new_point_index / n)\n",
    "    col = new_point_index % n\n",
    "    if col == 0; col = n end # julia is 1-indexed, so x*n mod(n) must be n rather than 0\n",
    "\n",
    "    point_allowed = true\n",
    "\n",
    "    for i in 1:length(one_indices) \n",
    "        for j in i+1:length(one_indices)\n",
    "            point_one_row = ceil(Int, one_indices[i] / n)\n",
    "            point_two_row = ceil(Int, one_indices[j] / n)\n",
    "            #if point_one_row == 0; point_one_row end\n",
    "            #if point_two_row == 0; point_two_row end\n",
    "\n",
    "            point_one_col = one_indices[i] % n\n",
    "            point_two_col = one_indices[j] % n\n",
    "            if point_one_col == 0; point_one_col = n end\n",
    "            if point_two_col == 0; point_two_col = n end\n",
    "\n",
    "            if (  (row == point_one_row)\n",
    "                | (row == point_two_row)\n",
    "                | (point_one_row == point_two_row)\n",
    "                | (col == point_one_col)\n",
    "                | (col == point_two_col)\n",
    "                | (point_one_col == point_two_col))\n",
    "                continue\n",
    "            end\n",
    "            \n",
    "            # ensure point_one_col < point_two_col\n",
    "            if (point_two_col < point_one_col)\n",
    "                point_one_row, point_two_row = point_two_row, point_one_row\n",
    "                point_one_col, point_two_col = point_two_col, point_one_col\n",
    "            end\n",
    "\n",
    "            # new point as 1 in a valid 312-pattern\n",
    "            if ((point_two_row < point_one_row < row) & (point_one_col < col < point_two_col))\n",
    "                point_allowed = false\n",
    "                break\n",
    "            end\n",
    "\n",
    "            # new point as 2 in a valid 312-pattern\n",
    "            if ((point_two_row < row < point_one_row) & (col < point_one_col))\n",
    "                point_allowed = false\n",
    "                break\n",
    "            end\n",
    "\n",
    "            # new point as 3 in a valid 312-pattern\n",
    "            if ((row < point_one_row < point_two_row) & (point_two_col < col))\n",
    "                point_allowed = false\n",
    "                break\n",
    "            end\n",
    "        end\n",
    "\n",
    "        if point_allowed == false\n",
    "            break\n",
    "        end\n",
    "        \n",
    "    end\n",
    "\n",
    "    return point_allowed\n",
    "end"
   ]
  },
  {
   "cell_type": "code",
   "execution_count": 241,
   "metadata": {},
   "outputs": [
    {
     "data": {
      "text/plain": [
       "add_point (generic function with 1 method)"
      ]
     },
     "execution_count": 241,
     "metadata": {},
     "output_type": "execute_result"
    }
   ],
   "source": [
    "function add_point(input_state, action_vec, n)\n",
    "    point_added = false\n",
    "    action_taken = zeros(n^2)\n",
    "    cur_state = copy(input_state)\n",
    "    \n",
    "    while !point_added\n",
    "        action_index = StatsBase.sample(collect(1:length(action_vec)), Weights(action_vec), 1)[1]\n",
    "        one_indices = findall(!iszero, input_state)\n",
    "        action_allowed = new_point_allowed(one_indices, action_index, n)\n",
    "        \n",
    "        if (cur_state[action_index] == 0) & (action_allowed)\n",
    "            cur_state[action_index] = 1\n",
    "            action_taken[action_index] = 1\n",
    "            point_added = true\n",
    "        else\n",
    "            action_vec[action_index] = 0\n",
    "            action_vec = action_vec ./ sum(action_vec)\n",
    "        end\n",
    "    end\n",
    "\n",
    "    return cur_state, action_taken\n",
    "end"
   ]
  },
  {
   "cell_type": "code",
   "execution_count": 291,
   "metadata": {},
   "outputs": [
    {
     "data": {
      "text/plain": [
       "4×4 adjoint(::Matrix{Float64}) with eltype Float64:\n",
       " 1.0  1.0  0.0  0.0\n",
       " 1.0  1.0  1.0  1.0\n",
       " 0.0  1.0  1.0  1.0\n",
       " 1.0  1.0  0.0  1.0"
      ]
     },
     "execution_count": 291,
     "metadata": {},
     "output_type": "execute_result"
    }
   ],
   "source": [
    "n_sessions = 3\n",
    "n = 4\n",
    "\n",
    "i = 1\n",
    "\n",
    "states = zeros(n_sessions, 4*n - 4 + 1, n^2)\n",
    "actions = zeros(n_sessions, 4*n - 4 + 1, n^2)\n",
    "scores = zeros(n_sessions)\n",
    "\n",
    "for i in 1:n_sessions\n",
    "    step_ = 0\n",
    "    while step_ < 4*n - 4\n",
    "        step_ += 1\n",
    "        cur_state = states[i, step_, :]\n",
    "\n",
    "        output = net(cur_state)\n",
    "        next_state, action = add_point(cur_state, output, n)\n",
    "\n",
    "        actions[i, step_, :] = action\n",
    "        states[i, step_ + 1, :] = next_state\n",
    "    end\n",
    "    final_state = states[i, step_ + 1, :]\n",
    "    final_state_matrix = reshape(final_state, (n,n))\n",
    "    scores[i] = glynn(final_state_matrix)\n",
    "end\n",
    "\n",
    "M = reshape(states[1,4*n - 4 + 1,:], (n,n))'"
   ]
  },
  {
   "cell_type": "code",
   "execution_count": 295,
   "metadata": {},
   "outputs": [
    {
     "data": {
      "text/plain": [
       "4×4 adjoint(::Matrix{Float64}) with eltype Float64:\n",
       " 1.0  1.0  0.0  0.0\n",
       " 1.0  1.0  1.0  1.0\n",
       " 0.0  1.0  1.0  1.0\n",
       " 1.0  1.0  0.0  1.0"
      ]
     },
     "execution_count": 295,
     "metadata": {},
     "output_type": "execute_result"
    }
   ],
   "source": [
    "states_batch, actions_batch, rewards_batch = states, actions,scores\n",
    "sessions = (states_batch, actions_batch, rewards_batch)\n",
    "reshape(states_batch[1,13,:],(4,4))'"
   ]
  },
  {
   "cell_type": "code",
   "execution_count": 351,
   "metadata": {},
   "outputs": [
    {
     "data": {
      "text/plain": [
       "4-element Vector{Float64}:\n",
       " 7.0\n",
       " 6.0\n",
       " 6.0\n",
       " 4.0"
      ]
     },
     "execution_count": 351,
     "metadata": {},
     "output_type": "execute_result"
    }
   ],
   "source": [
    "cat(rewards_batch, [4]; dims=1)"
   ]
  },
  {
   "cell_type": "code",
   "execution_count": 353,
   "metadata": {},
   "outputs": [
    {
     "data": {
      "text/plain": [
       "3-element Vector{Vector{Any}}:\n",
       " [[0.0 0.0 … 0.0 0.0; 0.0 0.0 … 0.0 0.0; … ; 1.0 1.0 … 0.0 1.0; 1.0 1.0 … 0.0 1.0], [0.0 0.0 … 0.0 0.0; 0.0 0.0 … 0.0 0.0; … ; 0.0 0.0 … 0.0 0.0; 0.0 0.0 … 0.0 0.0], 7.0]\n",
       " [[0.0 0.0 … 0.0 0.0; 0.0 0.0 … 0.0 0.0; … ; 0.0 1.0 … 0.0 1.0; 1.0 1.0 … 0.0 1.0], [0.0 0.0 … 0.0 0.0; 0.0 0.0 … 0.0 0.0; … ; 1.0 0.0 … 0.0 0.0; 0.0 0.0 … 0.0 0.0], 6.0]\n",
       " [[0.0 0.0 … 0.0 0.0; 0.0 0.0 … 0.0 0.0; … ; 1.0 0.0 … 0.0 1.0; 1.0 1.0 … 0.0 1.0], [0.0 0.0 … 0.0 0.0; 0.0 0.0 … 0.0 0.0; … ; 0.0 1.0 … 0.0 0.0; 0.0 0.0 … 0.0 0.0], 6.0]"
      ]
     },
     "execution_count": 353,
     "metadata": {},
     "output_type": "execute_result"
    }
   ],
   "source": [
    "super_sessions = [[sessions[1][i,:,:], sessions[2][i,:,:], sessions[3][i]] for i in 1:length(sessions[3])]\n",
    "sort!(super_sessions, by = x -> x[3], rev=true)"
   ]
  },
  {
   "cell_type": "code",
   "execution_count": 357,
   "metadata": {},
   "outputs": [
    {
     "data": {
      "text/plain": [
       "6.0"
      ]
     },
     "execution_count": 357,
     "metadata": {},
     "output_type": "execute_result"
    }
   ],
   "source": [
    "super_sessions[1][3]"
   ]
  },
  {
   "cell_type": "code",
   "execution_count": 356,
   "metadata": {},
   "outputs": [
    {
     "data": {
      "text/plain": [
       "3-element Vector{Float64}:\n",
       " 7.0\n",
       " 6.0\n",
       " 6.0"
      ]
     },
     "execution_count": 356,
     "metadata": {},
     "output_type": "execute_result"
    }
   ],
   "source": [
    "sessions[3]"
   ]
  },
  {
   "cell_type": "code",
   "execution_count": 359,
   "metadata": {},
   "outputs": [
    {
     "data": {
      "text/plain": [
       "3-element Vector{Float64}:\n",
       " 7.0\n",
       " 6.0\n",
       " 6.0"
      ]
     },
     "execution_count": 359,
     "metadata": {},
     "output_type": "execute_result"
    }
   ],
   "source": [
    "super_rewards"
   ]
  },
  {
   "cell_type": "code",
   "execution_count": 358,
   "metadata": {},
   "outputs": [
    {
     "data": {
      "text/plain": [
       "3-element Vector{Float64}:\n",
       " 7.0\n",
       " 6.0\n",
       " 6.0"
      ]
     },
     "execution_count": 358,
     "metadata": {},
     "output_type": "execute_result"
    }
   ],
   "source": [
    "super_states = [super_sessions[i][1] for i in 1:length(super_sessions)]\n",
    "super_actions = [super_sessions[i][2] for i in 1:length(super_sessions)]\n",
    "super_rewards = [super_sessions[i][3] for i in 1:length(super_sessions)]"
   ]
  },
  {
   "cell_type": "code",
   "execution_count": 368,
   "metadata": {},
   "outputs": [
    {
     "data": {
      "text/plain": [
       "16-element Vector{Float64}:\n",
       " 1.0\n",
       " 1.0\n",
       " 0.0\n",
       " 0.0\n",
       " 1.0\n",
       " 1.0\n",
       " 1.0\n",
       " 1.0\n",
       " 0.0\n",
       " 1.0\n",
       " 1.0\n",
       " 1.0\n",
       " 1.0\n",
       " 1.0\n",
       " 0.0\n",
       " 1.0"
      ]
     },
     "execution_count": 368,
     "metadata": {},
     "output_type": "execute_result"
    }
   ],
   "source": [
    "state_example = super_states[1][13,:]"
   ]
  },
  {
   "cell_type": "code",
   "execution_count": 302,
   "metadata": {},
   "outputs": [
    {
     "data": {
      "text/plain": [
       "16-element Vector{Float64}:\n",
       " 1.0\n",
       " 1.0\n",
       " 0.0\n",
       " 0.0\n",
       " 1.0\n",
       " 1.0\n",
       " 1.0\n",
       " 1.0\n",
       " 0.0\n",
       " 1.0\n",
       " 1.0\n",
       " 1.0\n",
       " 1.0\n",
       " 1.0\n",
       " 0.0\n",
       " 1.0"
      ]
     },
     "execution_count": 302,
     "metadata": {},
     "output_type": "execute_result"
    }
   ],
   "source": [
    "sessions[1][1,13,:]"
   ]
  },
  {
   "cell_type": "code",
   "execution_count": 153,
   "metadata": {},
   "outputs": [
    {
     "data": {
      "text/plain": [
       "([1.0, 1.0, 1.0, 1.0], [1.0, 0.0, 0.0, 0.0])"
      ]
     },
     "execution_count": 153,
     "metadata": {},
     "output_type": "execute_result"
    }
   ],
   "source": [
    "step_ = 4\n",
    "i = 1\n",
    "cur_state = states[i, step_, :]\n",
    "\n",
    "output = net(cur_state)\n",
    "next_state, action = add_point(cur_state, output, n)"
   ]
  },
  {
   "cell_type": "code",
   "execution_count": 154,
   "metadata": {},
   "outputs": [
    {
     "data": {
      "text/plain": [
       "4-element Vector{Float64}:\n",
       " 1.0\n",
       " 1.0\n",
       " 1.0\n",
       " 1.0"
      ]
     },
     "execution_count": 154,
     "metadata": {},
     "output_type": "execute_result"
    }
   ],
   "source": [
    "actions[i, step_, :] = action\n",
    "states[i, step_ + 1, :] = next_state"
   ]
  },
  {
   "cell_type": "code",
   "execution_count": 155,
   "metadata": {},
   "outputs": [
    {
     "data": {
      "text/plain": [
       "5×4 Matrix{Float64}:\n",
       " 0.0  0.0  0.0  0.0\n",
       " 0.0  0.0  0.0  1.0\n",
       " 0.0  1.0  0.0  1.0\n",
       " 0.0  1.0  1.0  1.0\n",
       " 1.0  1.0  1.0  1.0"
      ]
     },
     "execution_count": 155,
     "metadata": {},
     "output_type": "execute_result"
    }
   ],
   "source": [
    "states[1,:,:]"
   ]
  },
  {
   "cell_type": "code",
   "execution_count": 567,
   "metadata": {},
   "outputs": [
    {
     "ename": "LoadError",
     "evalue": "UndefVarError: `item` not defined",
     "output_type": "error",
     "traceback": [
      "UndefVarError: `item` not defined",
      "",
      "Stacktrace:",
      " [1] top-level scope",
      "   @ In[567]:1"
     ]
    }
   ],
   "source": [
    "temp = reshape(item, 1, size(states_batch, 3)) # size of board\n",
    "#elite_states = vcat(elite_states, temp)"
   ]
  },
  {
   "cell_type": "code",
   "execution_count": 529,
   "metadata": {},
   "outputs": [
    {
     "ename": "LoadError",
     "evalue": "DimensionMismatch: new dimensions (1, 16) must be consistent with array size 208",
     "output_type": "error",
     "traceback": [
      "DimensionMismatch: new dimensions (1, 16) must be consistent with array size 208",
      "",
      "Stacktrace:",
      " [1] (::Base.var\"#throw_dmrsa#328\")(dims::Tuple{Int64, Int64}, len::Int64)",
      "   @ Base ./reshapedarray.jl:41",
      " [2] reshape",
      "   @ ./reshapedarray.jl:45 [inlined]",
      " [3] reshape(::Matrix{Float64}, ::Int64, ::Int64)",
      "   @ Base ./reshapedarray.jl:117",
      " [4] top-level scope",
      "   @ In[529]:1"
     ]
    }
   ],
   "source": [
    "reshape(ex_states[1,:,:],1,size(states_batch,3))"
   ]
  },
  {
   "cell_type": "code",
   "execution_count": 574,
   "metadata": {},
   "outputs": [
    {
     "data": {
      "text/plain": [
       "4×13×16 Array{Float64, 3}:\n",
       "[:, :, 1] =\n",
       " 0.0  1.0  1.0  1.0  1.0  1.0  1.0  1.0  1.0  1.0  1.0  1.0  1.0\n",
       " 0.0  0.0  0.0  0.0  0.0  0.0  0.0  0.0  0.0  1.0  1.0  1.0  1.0\n",
       " 0.0  0.0  0.0  0.0  0.0  0.0  0.0  0.0  0.0  0.0  0.0  1.0  1.0\n",
       " 0.0  0.0  0.0  0.0  0.0  0.0  0.0  0.0  0.0  1.0  1.0  1.0  1.0\n",
       "\n",
       "[:, :, 2] =\n",
       " 0.0  0.0  0.0  0.0  0.0  0.0  0.0  0.0  0.0  1.0  1.0  1.0  1.0\n",
       " 0.0  0.0  0.0  0.0  0.0  0.0  0.0  0.0  0.0  0.0  1.0  1.0  1.0\n",
       " 0.0  0.0  0.0  0.0  0.0  0.0  0.0  0.0  0.0  0.0  1.0  1.0  1.0\n",
       " 0.0  0.0  0.0  0.0  0.0  0.0  0.0  0.0  0.0  0.0  1.0  1.0  1.0\n",
       "\n",
       "[:, :, 3] =\n",
       " 0.0  0.0  1.0  1.0  1.0  1.0  1.0  1.0  1.0  1.0  1.0  1.0  1.0\n",
       " 0.0  0.0  1.0  1.0  1.0  1.0  1.0  1.0  1.0  1.0  1.0  1.0  1.0\n",
       " 0.0  0.0  0.0  0.0  0.0  0.0  0.0  0.0  0.0  0.0  0.0  0.0  0.0\n",
       " 0.0  0.0  1.0  1.0  1.0  1.0  1.0  1.0  1.0  1.0  1.0  1.0  1.0\n",
       "\n",
       ";;; … \n",
       "\n",
       "[:, :, 14] =\n",
       " 0.0  0.0  0.0  0.0  0.0  0.0  0.0  0.0  0.0  0.0  0.0  0.0  0.0\n",
       " 0.0  0.0  0.0  0.0  0.0  0.0  0.0  1.0  1.0  1.0  1.0  1.0  1.0\n",
       " 0.0  0.0  0.0  0.0  0.0  0.0  0.0  0.0  0.0  0.0  0.0  0.0  0.0\n",
       " 0.0  0.0  0.0  0.0  0.0  0.0  0.0  1.0  1.0  1.0  1.0  1.0  1.0\n",
       "\n",
       "[:, :, 15] =\n",
       " 0.0  0.0  0.0  0.0  0.0  0.0  0.0  0.0  0.0  0.0  0.0  0.0  0.0\n",
       " 0.0  0.0  0.0  0.0  1.0  1.0  1.0  1.0  1.0  1.0  1.0  1.0  1.0\n",
       " 0.0  0.0  0.0  0.0  0.0  0.0  0.0  0.0  0.0  0.0  0.0  0.0  0.0\n",
       " 0.0  0.0  0.0  0.0  1.0  1.0  1.0  1.0  1.0  1.0  1.0  1.0  1.0\n",
       "\n",
       "[:, :, 16] =\n",
       " 0.0  0.0  0.0  0.0  0.0  0.0  0.0  0.0  0.0  0.0  0.0  0.0  1.0\n",
       " 0.0  0.0  0.0  0.0  0.0  0.0  1.0  1.0  1.0  1.0  1.0  1.0  1.0\n",
       " 0.0  0.0  0.0  1.0  1.0  1.0  1.0  1.0  1.0  1.0  1.0  1.0  1.0\n",
       " 0.0  0.0  0.0  0.0  0.0  0.0  1.0  1.0  1.0  1.0  1.0  1.0  1.0"
      ]
     },
     "execution_count": 574,
     "metadata": {},
     "output_type": "execute_result"
    }
   ],
   "source": [
    "concat = reshape(ex_states[2,:,:], (1,size(ex_states[2,:,:])...))\n",
    "#concat[1,:,:]\n",
    "test = cat(ex_states,concat;dims=1)"
   ]
  },
  {
   "cell_type": "code",
   "execution_count": 557,
   "metadata": {},
   "outputs": [
    {
     "data": {
      "text/plain": [
       "13×16 Matrix{Float64}:\n",
       " 0.0  0.0  0.0  0.0  0.0  0.0  0.0  0.0  …  0.0  0.0  0.0  0.0  0.0  0.0  0.0\n",
       " 0.0  0.0  0.0  0.0  0.0  0.0  0.0  0.0     0.0  0.0  1.0  0.0  0.0  0.0  0.0\n",
       " 0.0  0.0  1.0  0.0  0.0  0.0  0.0  0.0     0.0  0.0  1.0  0.0  0.0  0.0  0.0\n",
       " 0.0  0.0  1.0  0.0  0.0  0.0  0.0  0.0     1.0  0.0  1.0  0.0  0.0  0.0  0.0\n",
       " 0.0  0.0  1.0  0.0  0.0  0.0  0.0  0.0     1.0  0.0  1.0  0.0  0.0  1.0  0.0\n",
       " 0.0  0.0  1.0  0.0  0.0  0.0  0.0  0.0  …  1.0  0.0  1.0  1.0  0.0  1.0  0.0\n",
       " 0.0  0.0  1.0  0.0  0.0  0.0  0.0  0.0     1.0  0.0  1.0  1.0  0.0  1.0  1.0\n",
       " 0.0  0.0  1.0  0.0  0.0  0.0  0.0  0.0     1.0  0.0  1.0  1.0  1.0  1.0  1.0\n",
       " 0.0  0.0  1.0  0.0  0.0  0.0  1.0  0.0     1.0  0.0  1.0  1.0  1.0  1.0  1.0\n",
       " 1.0  0.0  1.0  0.0  0.0  0.0  1.0  0.0     1.0  0.0  1.0  1.0  1.0  1.0  1.0\n",
       " 1.0  1.0  1.0  0.0  0.0  0.0  1.0  0.0  …  1.0  0.0  1.0  1.0  1.0  1.0  1.0\n",
       " 1.0  1.0  1.0  0.0  0.0  0.0  1.0  0.0     1.0  1.0  1.0  1.0  1.0  1.0  1.0\n",
       " 1.0  1.0  1.0  0.0  0.0  1.0  1.0  0.0     1.0  1.0  1.0  1.0  1.0  1.0  1.0"
      ]
     },
     "execution_count": 557,
     "metadata": {},
     "output_type": "execute_result"
    }
   ],
   "source": [
    "ex_states[2,:,:]"
   ]
  },
  {
   "cell_type": "code",
   "execution_count": 570,
   "metadata": {},
   "outputs": [
    {
     "ename": "LoadError",
     "evalue": "DimensionMismatch: mismatch in dimension 1 (expected 3 got 13)",
     "output_type": "error",
     "traceback": [
      "DimensionMismatch: mismatch in dimension 1 (expected 3 got 13)",
      "",
      "Stacktrace:",
      " [1] _cs",
      "   @ ./abstractarray.jl:1785 [inlined]",
      " [2] _cshp(ndim::Int64, dims::Tuple{Bool, Bool, Bool}, shape::Tuple{Int64, Int64, Int64}, nshape::Tuple{Int64, Int64})",
      "   @ Base ./abstractarray.jl:1781",
      " [3] _cat_size_shape",
      "   @ ./abstractarray.jl:1761 [inlined]",
      " [4] cat_size_shape",
      "   @ ./abstractarray.jl:1759 [inlined]",
      " [5] _cat_t",
      "   @ ./abstractarray.jl:1800 [inlined]",
      " [6] _cat(::Int64, ::Array{Float64, 3}, ::Matrix{Float64})",
      "   @ Base ./abstractarray.jl:1995",
      " [7] #cat#159",
      "   @ ./abstractarray.jl:1993 [inlined]",
      " [8] top-level scope",
      "   @ In[570]:1"
     ]
    }
   ],
   "source": [
    "concat=cat(ex_states,ex_states[2,:,:];dims=3)"
   ]
  },
  {
   "cell_type": "code",
   "execution_count": 531,
   "metadata": {},
   "outputs": [
    {
     "data": {
      "text/plain": [
       "13×16 Matrix{Float64}:\n",
       " 0.0  0.0  0.0  0.0  0.0  0.0  0.0  0.0  …  0.0  0.0  0.0  0.0  0.0  0.0  0.0\n",
       " 1.0  0.0  0.0  0.0  0.0  0.0  0.0  0.0     0.0  0.0  0.0  0.0  0.0  0.0  0.0\n",
       " 1.0  0.0  1.0  0.0  0.0  0.0  0.0  0.0     0.0  0.0  0.0  0.0  0.0  0.0  0.0\n",
       " 1.0  0.0  1.0  0.0  0.0  0.0  0.0  0.0     1.0  0.0  0.0  0.0  0.0  0.0  0.0\n",
       " 1.0  0.0  1.0  0.0  0.0  0.0  0.0  0.0     1.0  0.0  0.0  0.0  0.0  0.0  0.0\n",
       " 1.0  0.0  1.0  0.0  0.0  1.0  0.0  0.0  …  1.0  0.0  0.0  0.0  0.0  0.0  0.0\n",
       " 1.0  0.0  1.0  1.0  0.0  1.0  0.0  0.0     1.0  0.0  0.0  0.0  0.0  0.0  0.0\n",
       " 1.0  0.0  1.0  1.0  0.0  1.0  1.0  0.0     1.0  0.0  0.0  0.0  0.0  0.0  0.0\n",
       " 1.0  0.0  1.0  1.0  0.0  1.0  1.0  1.0     1.0  0.0  0.0  0.0  0.0  0.0  0.0\n",
       " 1.0  1.0  1.0  1.0  0.0  1.0  1.0  1.0     1.0  0.0  0.0  0.0  0.0  0.0  0.0\n",
       " 1.0  1.0  1.0  1.0  0.0  1.0  1.0  1.0  …  1.0  0.0  0.0  1.0  0.0  0.0  0.0\n",
       " 1.0  1.0  1.0  1.0  0.0  1.0  1.0  1.0     1.0  0.0  1.0  1.0  0.0  0.0  0.0\n",
       " 1.0  1.0  1.0  1.0  0.0  1.0  1.0  1.0     1.0  0.0  1.0  1.0  0.0  0.0  1.0"
      ]
     },
     "execution_count": 531,
     "metadata": {},
     "output_type": "execute_result"
    }
   ],
   "source": [
    "ex_states[1,:,:]"
   ]
  },
  {
   "cell_type": "code",
   "execution_count": 520,
   "metadata": {},
   "outputs": [
    {
     "data": {
      "text/plain": [
       "3×13×16 Array{Float64, 3}:\n",
       "[:, :, 1] =\n",
       " 0.0  1.0  1.0  1.0  1.0  1.0  1.0  1.0  1.0  1.0  1.0  1.0  1.0\n",
       " 0.0  0.0  0.0  0.0  0.0  0.0  0.0  0.0  0.0  1.0  1.0  1.0  1.0\n",
       " 0.0  0.0  0.0  0.0  0.0  0.0  0.0  0.0  0.0  0.0  0.0  1.0  1.0\n",
       "\n",
       "[:, :, 2] =\n",
       " 0.0  0.0  0.0  0.0  0.0  0.0  0.0  0.0  0.0  1.0  1.0  1.0  1.0\n",
       " 0.0  0.0  0.0  0.0  0.0  0.0  0.0  0.0  0.0  0.0  1.0  1.0  1.0\n",
       " 0.0  0.0  0.0  0.0  0.0  0.0  0.0  0.0  0.0  0.0  1.0  1.0  1.0\n",
       "\n",
       "[:, :, 3] =\n",
       " 0.0  0.0  1.0  1.0  1.0  1.0  1.0  1.0  1.0  1.0  1.0  1.0  1.0\n",
       " 0.0  0.0  1.0  1.0  1.0  1.0  1.0  1.0  1.0  1.0  1.0  1.0  1.0\n",
       " 0.0  0.0  0.0  0.0  0.0  0.0  0.0  0.0  0.0  0.0  0.0  0.0  0.0\n",
       "\n",
       ";;; … \n",
       "\n",
       "[:, :, 14] =\n",
       " 0.0  0.0  0.0  0.0  0.0  0.0  0.0  0.0  0.0  0.0  0.0  0.0  0.0\n",
       " 0.0  0.0  0.0  0.0  0.0  0.0  0.0  1.0  1.0  1.0  1.0  1.0  1.0\n",
       " 0.0  0.0  0.0  0.0  0.0  0.0  0.0  0.0  0.0  0.0  0.0  0.0  0.0\n",
       "\n",
       "[:, :, 15] =\n",
       " 0.0  0.0  0.0  0.0  0.0  0.0  0.0  0.0  0.0  0.0  0.0  0.0  0.0\n",
       " 0.0  0.0  0.0  0.0  1.0  1.0  1.0  1.0  1.0  1.0  1.0  1.0  1.0\n",
       " 0.0  0.0  0.0  0.0  0.0  0.0  0.0  0.0  0.0  0.0  0.0  0.0  0.0\n",
       "\n",
       "[:, :, 16] =\n",
       " 0.0  0.0  0.0  0.0  0.0  0.0  0.0  0.0  0.0  0.0  0.0  0.0  1.0\n",
       " 0.0  0.0  0.0  0.0  0.0  0.0  1.0  1.0  1.0  1.0  1.0  1.0  1.0\n",
       " 0.0  0.0  0.0  1.0  1.0  1.0  1.0  1.0  1.0  1.0  1.0  1.0  1.0"
      ]
     },
     "execution_count": 520,
     "metadata": {},
     "output_type": "execute_result"
    }
   ],
   "source": [
    "ex_states, ex_actions, ex_scores = generate_session(net, 3, 4)\n",
    "ex_states"
   ]
  },
  {
   "cell_type": "code",
   "execution_count": 644,
   "metadata": {},
   "outputs": [
    {
     "data": {
      "text/plain": [
       "generate_session (generic function with 1 method)"
      ]
     },
     "execution_count": 644,
     "metadata": {},
     "output_type": "execute_result"
    }
   ],
   "source": [
    "function generate_session(agent, n_sessions, n)\n",
    "    states = zeros(n_sessions, 4*n - 4 + 1, n^2)\n",
    "    actions = zeros(n_sessions, 4*n - 4 + 1, n^2)\n",
    "    scores = zeros(n_sessions)\n",
    "\n",
    "    step = 0\n",
    "\n",
    "    for i in 1:n_sessions # [1, n_sessions] inclusive\n",
    "        step = 0\n",
    "        while step < 4*n - 4 # there are 4*n - 4 steps total, starts at 0 and ends at 4*n - 4 - 1\n",
    "            \n",
    "            step += 1\n",
    "            # current board\n",
    "            cur_state .= states[i, step, :]\n",
    "\n",
    "            output = agent(cur_state)\n",
    "\n",
    "            next_state, action = add_point(cur_state, output, n)\n",
    "\n",
    "            actions[i, step, :] = action\n",
    "            states[i, step + 1, :] = next_state\n",
    "\n",
    "        final_state = states[i, step + 1, :]\n",
    "        final_state_matrix = reshape(final_state, (n,n))\n",
    "        scores[i] = glynn(final_state_matrix)\n",
    "        end\n",
    "    end\n",
    "\n",
    "    return states, actions, scores\n",
    "end"
   ]
  },
  {
   "cell_type": "code",
   "execution_count": 650,
   "metadata": {},
   "outputs": [
    {
     "data": {
      "text/plain": [
       "select_super_sessions (generic function with 1 method)"
      ]
     },
     "execution_count": 650,
     "metadata": {},
     "output_type": "execute_result"
    }
   ],
   "source": [
    "function select_super_sessions(states_batch, actions_batch, rewards_batch, super_percentile)\n",
    "    counter = n_sessions * (100 - super_percentile) / 100\n",
    "    println(counter)\n",
    "    reward_threshold = quantile(rewards_batch, super_percentile / 100)\n",
    "    \n",
    "    super_states = [] #zeros(Float32, 0, size(states_batch, 2), size(states_batch, 3))\n",
    "    super_actions = [] #Matrix{Int}(undef, 0, size(actions_batch, 2))\n",
    "    super_rewards = [] #Vector{Float32}(undef, 0)\n",
    "\n",
    "    for i in 1:size(states_batch, 1)\n",
    "        if rewards_batch[i] >= reward_threshold - 0.000001 && counter > 0\n",
    "            super_states = cat(super_states, states_batch[i, :, :]; dims=1)\n",
    "            super_actions = cat(super_actions, states_batch[i, :, :]; dims=1)\n",
    "            println(\"after cat\")\n",
    "            push!(super_rewards, rewards_batch[i])\n",
    "        end\n",
    "        counter -= 1\n",
    "    end\n",
    "\n",
    "    return super_states, super_actions, super_rewards\n",
    "\n",
    "end"
   ]
  },
  {
   "cell_type": "code",
   "execution_count": 639,
   "metadata": {},
   "outputs": [
    {
     "data": {
      "text/plain": [
       "select_elites (generic function with 1 method)"
      ]
     },
     "execution_count": 639,
     "metadata": {},
     "output_type": "execute_result"
    }
   ],
   "source": [
    "function select_elites(states_batch, actions_batch, rewards_batch, percentile)\n",
    "    counter = n_sessions * (100 - percentile) / 100\n",
    "    reward_threshold = quantile(rewards_batch, percentile / 100)\n",
    "\n",
    "    elite_states = Matrix{Float32}(undef, 0, size(states_batch, 3))\n",
    "    elite_actions = Matrix{Float32}(undef, 0, size(actions_batch, 3))\n",
    "\n",
    "    for i in 1:size(states_batch, 1)\n",
    "        if rewards_batch[i] >= reward_threshold - 0.000001 && counter > 0\n",
    "            #for item in eachrow(states_batch[i, :, :])\n",
    "            #    temp_state = reshape(item)\n",
    "            #end\n",
    "            \n",
    "            for item in eachrow(states_batch[i, :, :])\n",
    "                temp_state = reshape(item, 1, size(states_batch, 3)) # size of board\n",
    "                elite_states = vcat(elite_states, temp_state)\n",
    "            end\n",
    "            #temp_state = reshape(states_batch[i, :, :], (1,size(states_batch[i, :, :])...))\n",
    "            #elite_states = cat(elite_states, temp_state; dims=1)\n",
    "            for item in eachrow(actions_batch[i, :, :])\n",
    "                temp_action = reshape(item, 1, size(actions_batch, 3))\n",
    "                elite_actions = vcat(elite_actions, temp_action)\n",
    "                #push!(elite_actions, item)\n",
    "            end\n",
    "            #println(actions_batch[i])\n",
    "            #for item in actions_batch[i, :]\n",
    "            #    push!(elite_actions, item)\n",
    "            #end\n",
    "            #temp_actions = reshape(actions_batch[i, :, :], (1,size(actions_batch[i, :, :])...))\n",
    "            #elite_actions = cat(elite_actions, temp_actions; dims=1)\n",
    "        end\n",
    "        counter -= 1\n",
    "    end\n",
    "\n",
    "    return elite_states, elite_actions\n",
    "end"
   ]
  },
  {
   "cell_type": "code",
   "execution_count": 648,
   "metadata": {},
   "outputs": [
    {
     "data": {
      "text/plain": [
       "train (generic function with 1 method)"
      ]
     },
     "execution_count": 648,
     "metadata": {},
     "output_type": "execute_result"
    }
   ],
   "source": [
    "function train(board_size, filename)\n",
    "    n_sessions = 100\n",
    "    Learning_rate = 0.0001\n",
    "\n",
    "    n = board_size\n",
    "    input_space = n*n\n",
    "\n",
    "    first_layer_neurons = 128\n",
    "    second_layer_neurons = 64\n",
    "    third_layers_neurons = 4\n",
    "\n",
    "    # Define the neural network architecture (similar to PyTorch)\n",
    "    model = Chain(\n",
    "        Dense(n^2, first_layer_neurons, relu),\n",
    "        Dense(first_layer_neurons, second_layer_neurons, relu),\n",
    "        Dense(second_layer_neurons, third_layers_neurons, relu),\n",
    "        Dense(third_layers_neurons, n^2, σ)\n",
    "    )\n",
    "\n",
    "    # Create an instance of the neural network\n",
    "    net = model\n",
    "\n",
    "    # Defining the loss function and optimizer (similar to PyTorch)\n",
    "    criterion(y_pred, y_true) = Flux.binarycrossentropy(y_pred, y_true)\n",
    "    optimizer = Optimise.ADAM(learning_rate)\n",
    "\n",
    "    # Global lists\n",
    "    global super_states = []\n",
    "    global super_actions = []\n",
    "    global super_rewards = []\n",
    "\n",
    "    cur_best_reward = 0\n",
    "    cur_best_board = []\n",
    "    cur_best_game = []\n",
    "\n",
    "    for i in 1:10\n",
    "        println(\"\\n GENERATION $i\")\n",
    "        states_batch, actions_batch, rewards_batch = generate_session(net, n_sessions, n)\n",
    "\n",
    "        if i > 1\n",
    "            states_batch = cat(states_batch, super_states; dim=1)\n",
    "            actions_batch = cat(actions_batch, super_actions; dim=1)\n",
    "            rewards_batch = cat(rewards_batch, super_rewards; dim=1)\n",
    "        end\n",
    "        println(i)\n",
    "        elite_states, elite_actions = select_elites(states_batch, actions_batch, rewards_batch, percentile)\n",
    "\n",
    "        # sessions[1][i,:,:] are the states corresponding to the ith session\n",
    "        # likewise for actions and rewards\n",
    "        # the outer dimension is now the number of sessions\n",
    "        # the next dimension indicates (1 = states, 2 = actions, 3 = rewards)\n",
    "        # reverse sort the sessions (in the outer dimension) based on the rewards\n",
    "        println(\"after elites\")\n",
    "        sessions = select_super_sessions(states_batch, actions_batch, rewards_batch, super_percentile)\n",
    "        println(\"after select super\")\n",
    "        super_sessions = [[sessions[1][i,:,:], sessions[2][i,:,:], sessions[3][i]] for i in 1:length(sessions[3])]\n",
    "        sort!(super_sessions, by = x -> x[3], rev=true)\n",
    "        println(\"after sort\")\n",
    "        # optimize\n",
    "        # Backward pass (gradients calculation) and optimization (similar to PyTorch)\n",
    "        outputs = zeros(Float32, size(elite_states, 1), 1)\n",
    "        for i in 1:size(elite_states,1)\n",
    "            outputs[i] = model(elite_states[i, :, :])[1]\n",
    "        end\n",
    "        println(\"outputs\")\n",
    "\n",
    "        println(elite_actions)\n",
    "        loss = criterion(outputs, elite_actions)\n",
    "        grads = gradient(() -> loss, params(model))\n",
    "        Optimise.update!(optimizer, params(model), grads)\n",
    "\n",
    "        # retrieve states, actions, rewards but sorted by rewards\n",
    "        super_states = [super_sessions[i][1] for i in 1:length(super_sessions)]\n",
    "        super_actions = [super_sessions[i][2] for i in 1:length(super_sessions)]\n",
    "        super_rewards = [super_sessions[i][3] for i in 1:length(super_sessions)]\n",
    "\n",
    "        #########\n",
    "        println(super_rewards)\n",
    "        println(sessions)\n",
    "        #mean_all_reward = mean(rewards_batch[end-200:end])\n",
    "        mean_best_reward = mean(super_rewards)\n",
    "\n",
    "        println(\"\\n$i. Best individuals: \", super_rewards)\n",
    "        # Uncomment the line below to print out the mean best reward\n",
    "        println(\"Mean best reward: $mean_best_reward\")\n",
    "\n",
    "        # Make a new folder if 'Data' folder does not exist\n",
    "        if !isdir(\"Data\")\n",
    "            mkdir(\"Data\")\n",
    "        end\n",
    "\n",
    "        #max_index = argmax(super_rewards)\n",
    "        max_index = 1\n",
    "\n",
    "        if super_rewards[max_index] > cur_best_reward\n",
    "            cur_best_reward = super_rewards[max_index]\n",
    "            cur_best_board = super_states[max_index][4*n-4,:] # best board as vector\n",
    "            cur_best_game = super_states[max_index]\n",
    "\n",
    "            best_states_set = Set()\n",
    "            push!(best_states_set, string(cur_best_board))\n",
    "\n",
    "            # add to file\n",
    "            open(joinpath(\"Data\", filename * \"_best_board_timeline.txt\"), \"a\") do f\n",
    "                write(f, board_to_string(cur_best_board), '\\n')\n",
    "            end\n",
    "            open(joinpath(\"Data\", filename * \"_best_reward_timeline.txt\"), \"a\") do f\n",
    "                write(f, string(cur_best_reward), '\\n')\n",
    "            end\n",
    "        end\n",
    "\n",
    "        if super_rewards[max_index] == cur_best_reward\n",
    "            cur_best_board = super_states[max_index][4*n-4,:] # best board as vector\n",
    "            if !in(string(cur_best_board), best_states_set)\n",
    "                push!(best_states_set, string(cur_best_board))\n",
    "\n",
    "                # add to file\n",
    "                open(joinpath(\"Data\", filename * \"_best_board_timeline.txt\"), \"a\") do f\n",
    "                    write(f, board_to_string(cur_best_board), '\\n')\n",
    "                end\n",
    "                open(joinpath(\"Data\", filename * \"_best_reward_timeline.txt\"), \"a\") do f\n",
    "                    write(f, string(cur_best_reward), '\\n')\n",
    "                end\n",
    "            end\n",
    "    \n",
    "        end\n",
    "        \n",
    "    end\n",
    "        println(cur_best_reward)\n",
    "        return net, cur_best_game\n",
    "end"
   ]
  },
  {
   "cell_type": "code",
   "execution_count": 649,
   "metadata": {},
   "outputs": [
    {
     "name": "stdout",
     "output_type": "stream",
     "text": [
      "\n",
      " GENERATION 1\n",
      "1\n",
      "after elites\n",
      "10.0\n",
      "after cat\n",
      "after select super\n",
      "after sort\n",
      "outputs\n",
      "[0.0 0.0 0.0 0.0 0.0 0.0 0.0 0.0 0.0 0.0 0.0 1.0 0.0 0.0 0.0 0.0; 0.0 0.0 0.0 0.0 0.0 0.0 0.0 0.0 1.0 0.0 0.0 0.0 0.0 0.0 0.0 0.0; 0.0 0.0 0.0 0.0 0.0 0.0 0.0 1.0 0.0 0.0 0.0 0.0 0.0 0.0 0.0 0.0; 1.0 0.0 0.0 0.0 0.0 0.0 0.0 0.0 0.0 0.0 0.0 0.0 0.0 0.0 0.0 0.0; 0.0 0.0 0.0 0.0 0.0 0.0 1.0 0.0 0.0 0.0 0.0 0.0 0.0 0.0 0.0 0.0; 0.0 0.0 0.0 0.0 0.0 0.0 0.0 0.0 0.0 0.0 0.0 0.0 0.0 0.0 0.0 1.0; 0.0 0.0 0.0 0.0 0.0 0.0 0.0 0.0 0.0 1.0 0.0 0.0 0.0 0.0 0.0 0.0; 0.0 0.0 0.0 0.0 0.0 0.0 0.0 0.0 0.0 0.0 0.0 0.0 1.0 0.0 0.0 0.0; 0.0 0.0 0.0 0.0 0.0 1.0 0.0 0.0 0.0 0.0 0.0 0.0 0.0 0.0 0.0 0.0; 0.0 0.0 0.0 1.0 0.0 0.0 0.0 0.0 0.0 0.0 0.0 0.0 0.0 0.0 0.0 0.0; 0.0 1.0 0.0 0.0 0.0 0.0 0.0 0.0 0.0 0.0 0.0 0.0 0.0 0.0 0.0 0.0; 0.0 0.0 1.0 0.0 0.0 0.0 0.0 0.0 0.0 0.0 0.0 0.0 0.0 0.0 0.0 0.0; 0.0 0.0 0.0 0.0 0.0 0.0 0.0 0.0 0.0 0.0 0.0 0.0 0.0 0.0 0.0 0.0; 0.0 0.0 0.0 0.0 1.0 0.0 0.0 0.0 0.0 0.0 0.0 0.0 0.0 0.0 0.0 0.0; 0.0 0.0 0.0 0.0 0.0 0.0 0.0 0.0 0.0 0.0 1.0 0.0 0.0 0.0 0.0 0.0; 0.0 0.0 0.0 0.0 0.0 0.0 0.0 0.0 0.0 0.0 0.0 1.0 0.0 0.0 0.0 0.0; 1.0 0.0 0.0 0.0 0.0 0.0 0.0 0.0 0.0 0.0 0.0 0.0 0.0 0.0 0.0 0.0; 0.0 0.0 0.0 0.0 0.0 0.0 1.0 0.0 0.0 0.0 0.0 0.0 0.0 0.0 0.0 0.0; 0.0 1.0 0.0 0.0 0.0 0.0 0.0 0.0 0.0 0.0 0.0 0.0 0.0 0.0 0.0 0.0; 0.0 0.0 0.0 0.0 0.0 0.0 0.0 0.0 0.0 0.0 0.0 0.0 1.0 0.0 0.0 0.0; 0.0 0.0 0.0 0.0 0.0 0.0 0.0 0.0 0.0 0.0 0.0 0.0 0.0 0.0 0.0 1.0; 0.0 0.0 0.0 0.0 0.0 0.0 0.0 0.0 0.0 0.0 0.0 0.0 0.0 0.0 1.0 0.0; 0.0 0.0 0.0 0.0 0.0 1.0 0.0 0.0 0.0 0.0 0.0 0.0 0.0 0.0 0.0 0.0; 0.0 0.0 0.0 0.0 0.0 0.0 0.0 0.0 0.0 1.0 0.0 0.0 0.0 0.0 0.0 0.0; 0.0 0.0 0.0 0.0 0.0 0.0 0.0 0.0 0.0 0.0 0.0 0.0 0.0 1.0 0.0 0.0; 0.0 0.0 0.0 0.0 0.0 0.0 0.0 0.0 0.0 0.0 0.0 0.0 0.0 0.0 0.0 0.0; 0.0 0.0 0.0 0.0 0.0 0.0 0.0 0.0 0.0 0.0 0.0 1.0 0.0 0.0 0.0 0.0; 0.0 0.0 0.0 0.0 0.0 0.0 0.0 0.0 0.0 0.0 1.0 0.0 0.0 0.0 0.0 0.0; 0.0 0.0 0.0 0.0 0.0 0.0 1.0 0.0 0.0 0.0 0.0 0.0 0.0 0.0 0.0 0.0; 0.0 0.0 0.0 0.0 0.0 0.0 0.0 0.0 0.0 0.0 0.0 0.0 1.0 0.0 0.0 0.0; 0.0 0.0 0.0 0.0 0.0 1.0 0.0 0.0 0.0 0.0 0.0 0.0 0.0 0.0 0.0 0.0; 0.0 0.0 0.0 0.0 0.0 0.0 0.0 0.0 0.0 0.0 0.0 0.0 0.0 0.0 0.0 1.0; 0.0 0.0 0.0 0.0 1.0 0.0 0.0 0.0 0.0 0.0 0.0 0.0 0.0 0.0 0.0 0.0; 0.0 0.0 0.0 0.0 0.0 0.0 0.0 1.0 0.0 0.0 0.0 0.0 0.0 0.0 0.0 0.0; 0.0 0.0 0.0 0.0 0.0 0.0 0.0 0.0 0.0 0.0 0.0 0.0 0.0 0.0 1.0 0.0; 1.0 0.0 0.0 0.0 0.0 0.0 0.0 0.0 0.0 0.0 0.0 0.0 0.0 0.0 0.0 0.0; 0.0 1.0 0.0 0.0 0.0 0.0 0.0 0.0 0.0 0.0 0.0 0.0 0.0 0.0 0.0 0.0; 0.0 0.0 1.0 0.0 0.0 0.0 0.0 0.0 0.0 0.0 0.0 0.0 0.0 0.0 0.0 0.0; 0.0 0.0 0.0 0.0 0.0 0.0 0.0 0.0 0.0 0.0 0.0 0.0 0.0 0.0 0.0 0.0; 1.0 0.0 0.0 0.0 0.0 0.0 0.0 0.0 0.0 0.0 0.0 0.0 0.0 0.0 0.0 0.0; 0.0 0.0 0.0 0.0 0.0 0.0 0.0 0.0 0.0 0.0 0.0 0.0 1.0 0.0 0.0 0.0; 0.0 0.0 1.0 0.0 0.0 0.0 0.0 0.0 0.0 0.0 0.0 0.0 0.0 0.0 0.0 0.0; 0.0 0.0 0.0 0.0 0.0 0.0 0.0 0.0 0.0 0.0 0.0 0.0 0.0 1.0 0.0 0.0; 0.0 0.0 0.0 0.0 0.0 0.0 0.0 0.0 0.0 0.0 1.0 0.0 0.0 0.0 0.0 0.0; 0.0 0.0 0.0 0.0 0.0 1.0 0.0 0.0 0.0 0.0 0.0 0.0 0.0 0.0 0.0 0.0; 0.0 0.0 0.0 0.0 0.0 0.0 0.0 0.0 0.0 0.0 0.0 1.0 0.0 0.0 0.0 0.0; 0.0 1.0 0.0 0.0 0.0 0.0 0.0 0.0 0.0 0.0 0.0 0.0 0.0 0.0 0.0 0.0; 0.0 0.0 0.0 0.0 0.0 0.0 0.0 0.0 0.0 0.0 0.0 0.0 0.0 0.0 1.0 0.0; 0.0 0.0 0.0 0.0 0.0 0.0 0.0 1.0 0.0 0.0 0.0 0.0 0.0 0.0 0.0 0.0; 0.0 0.0 0.0 0.0 0.0 0.0 0.0 0.0 0.0 0.0 0.0 0.0 0.0 0.0 0.0 1.0; 0.0 0.0 0.0 0.0 0.0 0.0 1.0 0.0 0.0 0.0 0.0 0.0 0.0 0.0 0.0 0.0; 0.0 0.0 0.0 0.0 0.0 0.0 0.0 0.0 0.0 0.0 0.0 0.0 0.0 0.0 0.0 0.0; 0.0 0.0 0.0 0.0 0.0 0.0 0.0 1.0 0.0 0.0 0.0 0.0 0.0 0.0 0.0 0.0; 0.0 0.0 0.0 0.0 0.0 0.0 0.0 0.0 0.0 0.0 0.0 1.0 0.0 0.0 0.0 0.0; 0.0 0.0 0.0 0.0 0.0 0.0 1.0 0.0 0.0 0.0 0.0 0.0 0.0 0.0 0.0 0.0; 0.0 0.0 0.0 0.0 0.0 1.0 0.0 0.0 0.0 0.0 0.0 0.0 0.0 0.0 0.0 0.0; 0.0 0.0 1.0 0.0 0.0 0.0 0.0 0.0 0.0 0.0 0.0 0.0 0.0 0.0 0.0 0.0; 0.0 0.0 0.0 0.0 0.0 0.0 0.0 0.0 0.0 0.0 0.0 0.0 0.0 1.0 0.0 0.0; 1.0 0.0 0.0 0.0 0.0 0.0 0.0 0.0 0.0 0.0 0.0 0.0 0.0 0.0 0.0 0.0; 0.0 0.0 0.0 0.0 0.0 0.0 0.0 0.0 0.0 0.0 0.0 0.0 1.0 0.0 0.0 0.0; 0.0 0.0 0.0 0.0 0.0 0.0 0.0 0.0 0.0 0.0 0.0 0.0 0.0 0.0 1.0 0.0; 0.0 0.0 0.0 0.0 0.0 0.0 0.0 0.0 0.0 0.0 1.0 0.0 0.0 0.0 0.0 0.0; 0.0 0.0 0.0 0.0 0.0 0.0 0.0 0.0 0.0 0.0 0.0 0.0 0.0 0.0 0.0 1.0; 0.0 1.0 0.0 0.0 0.0 0.0 0.0 0.0 0.0 0.0 0.0 0.0 0.0 0.0 0.0 0.0; 0.0 0.0 0.0 0.0 0.0 0.0 0.0 0.0 0.0 0.0 0.0 0.0 0.0 0.0 0.0 0.0; 0.0 0.0 0.0 0.0 0.0 0.0 0.0 0.0 0.0 0.0 0.0 0.0 0.0 0.0 0.0 1.0; 0.0 0.0 0.0 0.0 0.0 0.0 0.0 0.0 0.0 0.0 0.0 0.0 0.0 0.0 1.0 0.0; 0.0 0.0 0.0 0.0 0.0 0.0 0.0 0.0 1.0 0.0 0.0 0.0 0.0 0.0 0.0 0.0; 0.0 0.0 1.0 0.0 0.0 0.0 0.0 0.0 0.0 0.0 0.0 0.0 0.0 0.0 0.0 0.0; 0.0 0.0 0.0 0.0 0.0 0.0 1.0 0.0 0.0 0.0 0.0 0.0 0.0 0.0 0.0 0.0; 1.0 0.0 0.0 0.0 0.0 0.0 0.0 0.0 0.0 0.0 0.0 0.0 0.0 0.0 0.0 0.0; 0.0 1.0 0.0 0.0 0.0 0.0 0.0 0.0 0.0 0.0 0.0 0.0 0.0 0.0 0.0 0.0; 0.0 0.0 0.0 0.0 0.0 0.0 0.0 0.0 0.0 0.0 1.0 0.0 0.0 0.0 0.0 0.0; 0.0 0.0 0.0 0.0 0.0 0.0 0.0 0.0 0.0 0.0 0.0 0.0 1.0 0.0 0.0 0.0; 0.0 0.0 0.0 0.0 0.0 0.0 0.0 0.0 0.0 1.0 0.0 0.0 0.0 0.0 0.0 0.0; 0.0 0.0 0.0 0.0 0.0 1.0 0.0 0.0 0.0 0.0 0.0 0.0 0.0 0.0 0.0 0.0; 0.0 0.0 0.0 0.0 0.0 0.0 0.0 0.0 0.0 0.0 0.0 1.0 0.0 0.0 0.0 0.0; 0.0 0.0 0.0 0.0 0.0 0.0 0.0 0.0 0.0 0.0 0.0 0.0 0.0 0.0 0.0 0.0; 1.0 0.0 0.0 0.0 0.0 0.0 0.0 0.0 0.0 0.0 0.0 0.0 0.0 0.0 0.0 0.0; 0.0 0.0 0.0 0.0 0.0 0.0 0.0 0.0 0.0 0.0 0.0 0.0 1.0 0.0 0.0 0.0; 0.0 0.0 0.0 0.0 1.0 0.0 0.0 0.0 0.0 0.0 0.0 0.0 0.0 0.0 0.0 0.0; 0.0 0.0 0.0 0.0 0.0 1.0 0.0 0.0 0.0 0.0 0.0 0.0 0.0 0.0 0.0 0.0; 0.0 0.0 0.0 0.0 0.0 0.0 0.0 0.0 0.0 1.0 0.0 0.0 0.0 0.0 0.0 0.0; 0.0 0.0 0.0 0.0 0.0 0.0 1.0 0.0 0.0 0.0 0.0 0.0 0.0 0.0 0.0 0.0; 0.0 0.0 0.0 0.0 0.0 0.0 0.0 0.0 0.0 0.0 0.0 1.0 0.0 0.0 0.0 0.0; 0.0 0.0 0.0 0.0 0.0 0.0 0.0 0.0 0.0 0.0 0.0 0.0 0.0 0.0 0.0 1.0; 0.0 0.0 0.0 0.0 0.0 0.0 0.0 0.0 0.0 0.0 0.0 0.0 0.0 1.0 0.0 0.0; 0.0 0.0 0.0 0.0 0.0 0.0 0.0 0.0 0.0 0.0 0.0 0.0 0.0 0.0 1.0 0.0; 0.0 1.0 0.0 0.0 0.0 0.0 0.0 0.0 0.0 0.0 0.0 0.0 0.0 0.0 0.0 0.0; 0.0 0.0 0.0 0.0 0.0 0.0 0.0 0.0 0.0 0.0 1.0 0.0 0.0 0.0 0.0 0.0; 0.0 0.0 0.0 0.0 0.0 0.0 0.0 0.0 0.0 0.0 0.0 0.0 0.0 0.0 0.0 0.0]\n"
     ]
    },
    {
     "ename": "LoadError",
     "evalue": "DimensionMismatch: loss function expects size(ŷ) = (91, 1) to match size(y) = (91, 16)",
     "output_type": "error",
     "traceback": [
      "DimensionMismatch: loss function expects size(ŷ) = (91, 1) to match size(y) = (91, 16)",
      "",
      "Stacktrace:",
      " [1] _check_sizes(ŷ::Matrix{Float32}, y::Matrix{Float64})",
      "   @ Flux.Losses ~/.julia/packages/Flux/JKfiV/src/losses/utils.jl:32",
      " [2] binarycrossentropy(ŷ::Matrix{Float32}, y::Matrix{Float64}; agg::typeof(mean), eps::Float32, ϵ::Nothing)",
      "   @ Flux.Losses ~/.julia/packages/Flux/JKfiV/src/losses/functions.jl:324",
      " [3] binarycrossentropy",
      "   @ ~/.julia/packages/Flux/JKfiV/src/losses/functions.jl:322 [inlined]",
      " [4] criterion",
      "   @ ./In[648]:24 [inlined]",
      " [5] train(board_size::Int64, filename::String)",
      "   @ Main ./In[648]:68",
      " [6] top-level scope",
      "   @ In[649]:4"
     ]
    }
   ],
   "source": [
    "n_sessions = 100\n",
    "n = 4\n",
    "filename = \"4x4_test\"\n",
    "best_net, best_game = train(n, filename)"
   ]
  },
  {
   "cell_type": "markdown",
   "metadata": {},
   "source": [
    "# Execute training"
   ]
  },
  {
   "cell_type": "code",
   "execution_count": 516,
   "metadata": {},
   "outputs": [
    {
     "data": {
      "text/plain": [
       "Adam(0.001, (0.9, 0.999), 1.0e-8, IdDict{Any, Any}())"
      ]
     },
     "execution_count": 516,
     "metadata": {},
     "output_type": "execute_result"
    }
   ],
   "source": [
    "n = 4\n",
    "first_layer_neurons = 128\n",
    "second_layer_neurons = 64\n",
    "third_layers_neurons = 4\n",
    "\n",
    "# Define the neural network architecture (similar to PyTorch)\n",
    "model = Chain(\n",
    "    Dense(n^2, first_layer_neurons, relu),\n",
    "    Dense(first_layer_neurons, second_layer_neurons, relu),\n",
    "    Dense(second_layer_neurons, third_layers_neurons, relu),\n",
    "    Dense(third_layers_neurons, n^2, σ)\n",
    ")\n",
    "\n",
    "# Create an instance of the neural network\n",
    "net = model\n",
    "\n",
    "# Defining the loss function and optimizer (similar to PyTorch)\n",
    "criterion(y_pred, y_true) = Flux.binarycrossentropy(y_pred, y_true)\n",
    "optimizer = Optimise.ADAM(learning_rate)"
   ]
  },
  {
   "cell_type": "markdown",
   "metadata": {},
   "source": [
    "# Scratch"
   ]
  },
  {
   "cell_type": "code",
   "execution_count": 48,
   "metadata": {},
   "outputs": [
    {
     "data": {
      "text/plain": [
       "0"
      ]
     },
     "execution_count": 48,
     "metadata": {},
     "output_type": "execute_result"
    }
   ],
   "source": [
    "i = 2\n",
    "step_ = 0"
   ]
  },
  {
   "cell_type": "code",
   "execution_count": 54,
   "metadata": {},
   "outputs": [
    {
     "data": {
      "text/plain": [
       "5×8 Matrix{Float32}:\n",
       " 1.0  1.0  1.0  0.0  0.0  0.0  0.0  1.0\n",
       " 0.0  0.0  0.0  0.0  0.0  0.0  0.0  1.0\n",
       " 0.0  0.0  0.0  0.0  0.0  0.0  0.0  0.0\n",
       " 0.0  0.0  0.0  0.0  0.0  0.0  0.0  0.0\n",
       " 0.0  0.0  0.0  0.0  0.0  0.0  0.0  0.0"
      ]
     },
     "execution_count": 54,
     "metadata": {},
     "output_type": "execute_result"
    }
   ],
   "source": [
    "action = 1\n",
    "step_ += 1\n",
    "state_next[1, step_] = 1\n",
    "state_next[i, len_word + step_] = 0\n",
    "state_next[i, len_word + step_ + 1] = 1\n",
    "state_next"
   ]
  },
  {
   "cell_type": "code",
   "execution_count": 55,
   "metadata": {},
   "outputs": [
    {
     "data": {
      "text/plain": [
       "8-element view(::Array{Float32, 3}, 2, :, 4) with eltype Float32:\n",
       " 0.0\n",
       " 0.0\n",
       " 0.0\n",
       " 0.0\n",
       " 0.0\n",
       " 0.0\n",
       " 0.0\n",
       " 1.0"
      ]
     },
     "execution_count": 55,
     "metadata": {},
     "output_type": "execute_result"
    }
   ],
   "source": [
    "states[i, :, step_ + 1] .= state_next[i, :]"
   ]
  },
  {
   "cell_type": "code",
   "execution_count": 56,
   "metadata": {},
   "outputs": [
    {
     "data": {
      "text/plain": [
       "5×8×4 Array{Float32, 3}:\n",
       "[:, :, 1] =\n",
       " 0.0  0.0  0.0  0.0  0.0  0.0  0.0  0.0\n",
       " 0.0  0.0  0.0  0.0  0.0  0.0  0.0  0.0\n",
       " 0.0  0.0  0.0  0.0  0.0  0.0  0.0  0.0\n",
       " 0.0  0.0  0.0  0.0  0.0  0.0  0.0  0.0\n",
       " 0.0  0.0  0.0  0.0  0.0  0.0  0.0  0.0\n",
       "\n",
       "[:, :, 2] =\n",
       " 1.0  0.0  0.0  0.0  0.0  1.0  0.0  0.0\n",
       " 0.0  0.0  0.0  0.0  0.0  1.0  0.0  0.0\n",
       " 0.0  0.0  0.0  0.0  0.0  0.0  0.0  0.0\n",
       " 0.0  0.0  0.0  0.0  0.0  0.0  0.0  0.0\n",
       " 0.0  0.0  0.0  0.0  0.0  0.0  0.0  0.0\n",
       "\n",
       "[:, :, 3] =\n",
       " 1.0  1.0  0.0  0.0  0.0  0.0  1.0  0.0\n",
       " 0.0  0.0  0.0  0.0  0.0  0.0  1.0  0.0\n",
       " 0.0  0.0  0.0  0.0  0.0  0.0  0.0  0.0\n",
       " 0.0  0.0  0.0  0.0  0.0  0.0  0.0  0.0\n",
       " 0.0  0.0  0.0  0.0  0.0  0.0  0.0  0.0\n",
       "\n",
       "[:, :, 4] =\n",
       " 1.0  1.0  1.0  0.0  0.0  0.0  0.0  1.0\n",
       " 0.0  0.0  0.0  0.0  0.0  0.0  0.0  1.0\n",
       " 0.0  0.0  0.0  0.0  0.0  0.0  0.0  0.0\n",
       " 0.0  0.0  0.0  0.0  0.0  0.0  0.0  0.0\n",
       " 0.0  0.0  0.0  0.0  0.0  0.0  0.0  0.0"
      ]
     },
     "execution_count": 56,
     "metadata": {},
     "output_type": "execute_result"
    }
   ],
   "source": [
    "states"
   ]
  },
  {
   "cell_type": "code",
   "execution_count": 59,
   "metadata": {},
   "outputs": [
    {
     "data": {
      "text/plain": [
       "8-element Vector{Float32}:\n",
       " 1.0\n",
       " 1.0\n",
       " 1.0\n",
       " 0.0\n",
       " 0.0\n",
       " 0.0\n",
       " 0.0\n",
       " 1.0"
      ]
     },
     "execution_count": 59,
     "metadata": {},
     "output_type": "execute_result"
    }
   ],
   "source": [
    "state_next[1,:]"
   ]
  },
  {
   "cell_type": "markdown",
   "metadata": {},
   "source": []
  }
 ],
 "metadata": {
  "kernelspec": {
   "display_name": "Julia 1.10.4",
   "language": "julia",
   "name": "julia-1.10"
  },
  "language_info": {
   "file_extension": ".jl",
   "mimetype": "application/julia",
   "name": "julia",
   "version": "1.10.4"
  }
 },
 "nbformat": 4,
 "nbformat_minor": 2
}
